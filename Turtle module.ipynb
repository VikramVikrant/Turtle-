{
 "cells": [
  {
   "cell_type": "code",
   "execution_count": null,
   "metadata": {},
   "outputs": [
    {
     "name": "stdout",
     "output_type": "stream",
     "text": [
      "<turtle.Turtle object at 0x000001A0A58D6470>\n"
     ]
    }
   ],
   "source": [
    "import turtle\n",
    "\n",
    "my_turtle =turtle.Turtle()\n",
    "print(my_turtle)\n",
    "my_turtle.fd(100)\n",
    "my_turtle.lt(90)\n",
    "my_turtle.fd(100)\n",
    "my_turtle.lt(90)\n",
    "my_turtle.fd(100)\n",
    "my_turtle.lt(90)\n",
    "my_turtle.fd(100)\n",
    "my_turtle.lt(90)\n",
    "\n",
    "turtle.mainloop()"
   ]
  },
  {
   "cell_type": "code",
   "execution_count": null,
   "metadata": {},
   "outputs": [
    {
     "name": "stdout",
     "output_type": "stream",
     "text": [
      "<turtle.Turtle object at 0x0000029720D2B4E0>\n"
     ]
    }
   ],
   "source": [
    "import turtle\n",
    "\n",
    "my_turtle = turtle.Turtle()\n",
    "print(my_turtle)\n",
    "my_turtle.fd(100)\n",
    "my_turtle.lt(120)\n",
    "my_turtle.fd(100)\n",
    "my_turtle.lt(120)\n",
    "my_turtle.fd(100)\n",
    "my_turtle.lt(120)\n",
    "\n",
    "turtle.mainloop()"
   ]
  },
  {
   "cell_type": "code",
   "execution_count": 2,
   "metadata": {},
   "outputs": [
    {
     "name": "stdout",
     "output_type": "stream",
     "text": [
      "<turtle.Turtle object at 0x000001E1B5285BA8>\n"
     ]
    }
   ],
   "source": [
    "import turtle\n",
    "\n",
    "turtle_loop=turtle.Turtle()\n",
    "print(turtle_loop)\n",
    "for i in range(4):\n",
    "    turtle_loop.fd(100)\n",
    "    turtle_loop.lt(90)\n",
    "    \n",
    "    \n",
    "turtle.mainloop()    \n"
   ]
  },
  {
   "cell_type": "code",
   "execution_count": 17,
   "metadata": {},
   "outputs": [
    {
     "name": "stdout",
     "output_type": "stream",
     "text": [
      "<turtle.Turtle object at 0x000001E1B3694978>\n"
     ]
    }
   ],
   "source": [
    "import turtle\n",
    "\n",
    "my_turtle =turtle.Turtle()\n",
    "print(my_turtle)\n",
    "for i in range(3):\n",
    "    my_turtle.fd(200)\n",
    "    my_turtle.lt(120)\n",
    "    \n",
    "turtle.mainloop() \n",
    "\n"
   ]
  },
  {
   "cell_type": "code",
   "execution_count": 18,
   "metadata": {},
   "outputs": [],
   "source": [
    "def square(turtle_name,length):\n",
    "    for i in range(4):\n",
    "        turtle_name.fd(length)\n",
    "        turtle_name.lt(90)\n"
   ]
  },
  {
   "cell_type": "code",
   "execution_count": 20,
   "metadata": {},
   "outputs": [],
   "source": [
    "vikrant=turtle.Turtle()    #creating instance of turtle"
   ]
  },
  {
   "cell_type": "code",
   "execution_count": 21,
   "metadata": {},
   "outputs": [],
   "source": [
    "square(vikrant,200)\n",
    "turtle.mainloop()"
   ]
  },
  {
   "cell_type": "code",
   "execution_count": 4,
   "metadata": {},
   "outputs": [],
   "source": [
    "import turtle\n",
    "def polygon(turtle_name,n,length):\n",
    "    angle= 360/n\n",
    "    for i in range(n):\n",
    "        turtle_name.fd(length)\n",
    "        turtle_name.lt(angle)\n",
    "    "
   ]
  },
  {
   "cell_type": "code",
   "execution_count": 5,
   "metadata": {},
   "outputs": [],
   "source": [
    "vikrant=turtle.Turtle()"
   ]
  },
  {
   "cell_type": "code",
   "execution_count": 33,
   "metadata": {},
   "outputs": [],
   "source": [
    "polygon(vikrant,6,50)"
   ]
  },
  {
   "cell_type": "code",
   "execution_count": 34,
   "metadata": {},
   "outputs": [],
   "source": [
    "polygon(vikrant,12,50)"
   ]
  },
  {
   "cell_type": "code",
   "execution_count": 6,
   "metadata": {},
   "outputs": [],
   "source": [
    "polygon(vikrant,20,30)"
   ]
  },
  {
   "cell_type": "code",
   "execution_count": null,
   "metadata": {},
   "outputs": [],
   "source": []
  },
  {
   "cell_type": "code",
   "execution_count": null,
   "metadata": {},
   "outputs": [],
   "source": []
  }
 ],
 "metadata": {
  "kernelspec": {
   "display_name": "Python 3",
   "language": "python",
   "name": "python3"
  },
  "language_info": {
   "codemirror_mode": {
    "name": "ipython",
    "version": 3
   },
   "file_extension": ".py",
   "mimetype": "text/x-python",
   "name": "python",
   "nbconvert_exporter": "python",
   "pygments_lexer": "ipython3",
   "version": "3.7.3"
  }
 },
 "nbformat": 4,
 "nbformat_minor": 2
}
